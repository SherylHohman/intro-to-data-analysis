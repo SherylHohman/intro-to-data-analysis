{
 "cells": [
  {
   "cell_type": "markdown",
   "metadata": {},
   "source": [
    "Before we get started, a couple of reminders to keep in mind when using iPython notebooks:\n",
    "\n",
    "- Remember that you can see from the left side of a code cell when it was last run if there is a number within the brackets.\n",
    "- When you start a new notebook session, make sure you run all of the cells up to the point where you last left off. Even if the output is still visible from when you ran the cells in your previous session, the kernel starts in a fresh state so you'll need to reload the data, etc. on a new session.\n",
    "- The previous point is useful to keep in mind if your answers do not match what is expected in the lesson's quizzes. Try reloading the data and run all of the processing steps one by one in order to make sure that you are working with the same variables and data that are at each quiz stage.\n",
    "\n",
    "\n",
    "## Load Data from CSVs"
   ]
  },
  {
   "cell_type": "code",
   "execution_count": 2,
   "metadata": {
    "collapsed": true
   },
   "outputs": [],
   "source": [
    "import unicodecsv\n",
    "\n",
    "## Longer version of code (replaced with shorter, equivalent version below)\n",
    "\n",
    "# enrollments = []\n",
    "# f = open('enrollments.csv', 'rb')\n",
    "# reader = unicodecsv.DictReader(f)\n",
    "# for row in reader:\n",
    "#     enrollments.append(row)\n",
    "# f.close()\n",
    "\n",
    "with open('enrollments.csv', 'rb') as f:\n",
    "    reader = unicodecsv.DictReader(f)\n",
    "    enrollments = list(reader)"
   ]
  },
  {
   "cell_type": "code",
   "execution_count": 3,
   "metadata": {
    "collapsed": false
   },
   "outputs": [
    {
     "name": "stdout",
     "output_type": "stream",
     "text": [
      "{u'status': u'canceled', u'is_udacity': u'True', u'is_canceled': u'True', u'join_date': u'2014-11-10', u'account_key': u'448', u'cancel_date': u'2015-01-14', u'days_to_cancel': u'65'}\n",
      "\n",
      "{u'lessons_completed': u'0.0', u'num_courses_visited': u'1.0', u'total_minutes_visited': u'11.6793745', u'projects_completed': u'0.0', u'acct': u'0', u'utc_date': u'2015-01-09'}\n",
      "\n",
      "{u'lesson_key': u'3176718735', u'processing_state': u'EVALUATED', u'account_key': u'256', u'assigned_rating': u'UNGRADED', u'completion_date': u'2015-01-16', u'creation_date': u'2015-01-14'}\n"
     ]
    }
   ],
   "source": [
    "#####################################\n",
    "#                 1                 #\n",
    "#####################################\n",
    "\n",
    "## Read in the data from daily_engagement.csv and project_submissions.csv \n",
    "## and store the results in the below variables.\n",
    "## Then look at the first row of each table.\n",
    "with open('daily_engagement.csv', 'rb') as f:\n",
    "    reader = unicodecsv.DictReader(f)\n",
    "    daily_engagement = list(reader)\n",
    "with open('project_submissions.csv', 'rb') as f:\n",
    "    reader = unicodecsv.DictReader(f)\n",
    "    project_submissions = list(reader)\n",
    "\n",
    "print \"enrollments\\n\", enrollments[0]\n",
    "print\n",
    "print \"daily_engagement\\n\", daily_engagement[0]\n",
    "print\n",
    "print \"project_submissions\\n\", project_submissions[0]"
   ]
  },
  {
   "cell_type": "markdown",
   "metadata": {},
   "source": [
    "## Fixing Data Types"
   ]
  },
  {
   "cell_type": "code",
   "execution_count": 4,
   "metadata": {
    "collapsed": false
   },
   "outputs": [
    {
     "data": {
      "text/plain": [
       "{u'account_key': u'448',\n",
       " u'cancel_date': datetime.datetime(2015, 1, 14, 0, 0),\n",
       " u'days_to_cancel': 65,\n",
       " u'is_canceled': True,\n",
       " u'is_udacity': True,\n",
       " u'join_date': datetime.datetime(2014, 11, 10, 0, 0),\n",
       " u'status': u'canceled'}"
      ]
     },
     "execution_count": 4,
     "metadata": {},
     "output_type": "execute_result"
    }
   ],
   "source": [
    "from datetime import datetime as dt\n",
    "\n",
    "# Takes a date as a string, and returns a Python datetime object. \n",
    "# If there is no date given, returns None\n",
    "def parse_date(date):\n",
    "    if date == '':\n",
    "        return None\n",
    "    else:\n",
    "        return dt.strptime(date, '%Y-%m-%d')\n",
    "    \n",
    "# Takes a string which is either an empty string or represents an integer,\n",
    "# and returns an int or None.\n",
    "def parse_maybe_int(i):\n",
    "    if i == '':\n",
    "        return None\n",
    "    else:\n",
    "        return int(i)\n",
    "\n",
    "# Clean up the data types in the enrollments table\n",
    "for enrollment in enrollments:\n",
    "    enrollment['cancel_date'] = parse_date(enrollment['cancel_date'])\n",
    "    enrollment['days_to_cancel'] = parse_maybe_int(enrollment['days_to_cancel'])\n",
    "    enrollment['is_canceled'] = enrollment['is_canceled'] == 'True'\n",
    "    enrollment['is_udacity'] = enrollment['is_udacity'] == 'True'\n",
    "    enrollment['join_date'] = parse_date(enrollment['join_date'])\n",
    "    \n",
    "enrollments[0]"
   ]
  },
  {
   "cell_type": "code",
   "execution_count": 5,
   "metadata": {
    "collapsed": false
   },
   "outputs": [
    {
     "data": {
      "text/plain": [
       "{u'acct': u'0',\n",
       " u'lessons_completed': 0,\n",
       " u'num_courses_visited': 1,\n",
       " u'projects_completed': 0,\n",
       " u'total_minutes_visited': 11.6793745,\n",
       " u'utc_date': datetime.datetime(2015, 1, 9, 0, 0)}"
      ]
     },
     "execution_count": 5,
     "metadata": {},
     "output_type": "execute_result"
    }
   ],
   "source": [
    "# Clean up the data types in the engagement table\n",
    "for engagement_record in daily_engagement:\n",
    "    engagement_record['lessons_completed'] = int(float(engagement_record['lessons_completed']))\n",
    "    engagement_record['num_courses_visited'] = int(float(engagement_record['num_courses_visited']))\n",
    "    engagement_record['projects_completed'] = int(float(engagement_record['projects_completed']))\n",
    "    engagement_record['total_minutes_visited'] = float(engagement_record['total_minutes_visited'])\n",
    "    engagement_record['utc_date'] = parse_date(engagement_record['utc_date'])\n",
    "    \n",
    "daily_engagement[0]"
   ]
  },
  {
   "cell_type": "code",
   "execution_count": 6,
   "metadata": {
    "collapsed": false
   },
   "outputs": [
    {
     "data": {
      "text/plain": [
       "{u'account_key': u'256',\n",
       " u'assigned_rating': u'UNGRADED',\n",
       " u'completion_date': datetime.datetime(2015, 1, 16, 0, 0),\n",
       " u'creation_date': datetime.datetime(2015, 1, 14, 0, 0),\n",
       " u'lesson_key': u'3176718735',\n",
       " u'processing_state': u'EVALUATED'}"
      ]
     },
     "execution_count": 6,
     "metadata": {},
     "output_type": "execute_result"
    }
   ],
   "source": [
    "# Clean up the data types in the submissions table\n",
    "for submission in project_submissions:\n",
    "    submission['completion_date'] = parse_date(submission['completion_date'])\n",
    "    submission['creation_date'] = parse_date(submission['creation_date'])\n",
    "\n",
    "project_submissions[0]"
   ]
  },
  {
   "cell_type": "markdown",
   "metadata": {},
   "source": [
    "Note when running the above cells that we are actively changing the contents of our data variables. If you try to run these cells multiple times in the same session, an error will occur.\n",
    "\n",
    "## Investigating the Data"
   ]
  },
  {
   "cell_type": "code",
   "execution_count": 16,
   "metadata": {
    "collapsed": false
   },
   "outputs": [
    {
     "name": "stdout",
     "output_type": "stream",
     "text": [
      "1640 enrollment_num_rows\n",
      "1302 enrollment_num_unique_students\n",
      "\n",
      "136240 engagement_num_rows\n",
      "1237 engagement_num_unique_students\n",
      "\n",
      "3642 submission_num_rows\n",
      "743 submission_num_unique_students\n"
     ]
    }
   ],
   "source": [
    "#####################################\n",
    "#                 2                 #\n",
    "#####################################\n",
    "\n",
    "## Find the total number of rows and the number of unique students (account keys)\n",
    "## in each table.\n",
    "def count_unique_id(data, key):\n",
    "    # sets only add an item if its not already in there (unordered)\n",
    "    unique_ids = set()\n",
    "    for row in data:\n",
    "        unique_ids.add(row[key])\n",
    "    return len(unique_ids)\n",
    "\n",
    "enrollment_num_rows = len(enrollments)\n",
    "enrollment_num_unique_students = count_unique_id(enrollments, 'account_key')\n",
    "print enrollment_num_rows, \"enrollment_num_rows\"\n",
    "print enrollment_num_unique_students, \"enrollment_num_unique_students\"\n",
    "print\n",
    "\n",
    "\n",
    "engagement_num_rows = len(daily_engagement)\n",
    "engagement_num_unique_students = count_unique_id(daily_engagement, 'acct')\n",
    "print engagement_num_rows, \"engagement_num_rows\"\n",
    "print engagement_num_unique_students, \"engagement_num_unique_students\"\n",
    "print\n",
    "\n",
    "submission_num_rows = len(project_submissions)\n",
    "submission_num_unique_students = count_unique_id(project_submissions, 'account_key')\n",
    "print submission_num_rows, \"submission_num_rows\"\n",
    "print submission_num_unique_students, \"submission_num_unique_students\"\n"
   ]
  },
  {
   "cell_type": "markdown",
   "metadata": {},
   "source": [
    "## Problems in the Data"
   ]
  },
  {
   "cell_type": "code",
   "execution_count": 13,
   "metadata": {
    "collapsed": false
   },
   "outputs": [
    {
     "name": "stdout",
     "output_type": "stream",
     "text": [
      "{u'lessons_completed': 0, u'num_courses_visited': 1, u'total_minutes_visited': 11.6793745, u'projects_completed': 0, 'account_key': u'0', u'utc_date': datetime.datetime(2015, 1, 9, 0, 0)}\n"
     ]
    }
   ],
   "source": [
    "#####################################\n",
    "#                 3                 #\n",
    "#####################################\n",
    "\n",
    "## Rename the \"acct\" column in the daily_engagement table to \"account_key\".\n",
    "for row in daily_engagement:\n",
    "    if 'acct' in row:\n",
    "      val = row['acct']\n",
    "      row['account_key'] = val\n",
    "      del row['acct']\n",
    "print daily_engagement[0]"
   ]
  },
  {
   "cell_type": "markdown",
   "metadata": {},
   "source": [
    "## Missing Engagement Records"
   ]
  },
  {
   "cell_type": "code",
   "execution_count": 20,
   "metadata": {
    "collapsed": false
   },
   "outputs": [
    {
     "name": "stdout",
     "output_type": "stream",
     "text": [
      "1219\n",
      "{u'status': u'canceled', u'is_udacity': False, u'is_canceled': True, u'join_date': datetime.datetime(2014, 11, 12, 0, 0), u'account_key': u'1219', u'cancel_date': datetime.datetime(2014, 11, 12, 0, 0), u'days_to_cancel': 0}\n",
      "\n"
     ]
    }
   ],
   "source": [
    "#####################################\n",
    "#                 4                 #\n",
    "#####################################\n",
    "\n",
    "## Find any one student enrollments where the student is missing from the daily engagement table.\n",
    "## Output that enrollment.\n",
    "engaged_students = set()\n",
    "for engagement in daily_engagement:\n",
    "    engaged_students.add(engagement['account_key'])\n",
    "    \n",
    "for enrollment in enrollments:\n",
    "    student = enrollment['account_key']\n",
    "    if student not in engaged_students:\n",
    "        print student\n",
    "        break\n",
    "print enrollment\n",
    "print        "
   ]
  },
  {
   "cell_type": "markdown",
   "metadata": {},
   "source": [
    "## Checking for More Problem Records"
   ]
  },
  {
   "cell_type": "code",
   "execution_count": 23,
   "metadata": {
    "collapsed": false
   },
   "outputs": [
    {
     "name": "stdout",
     "output_type": "stream",
     "text": [
      "1304\n",
      "{u'status': u'canceled', u'is_udacity': True, u'is_canceled': True, u'join_date': datetime.datetime(2015, 1, 10, 0, 0), u'account_key': u'1304', u'cancel_date': datetime.datetime(2015, 3, 10, 0, 0), u'days_to_cancel': 59}\n",
      "1304\n",
      "{u'status': u'canceled', u'is_udacity': True, u'is_canceled': True, u'join_date': datetime.datetime(2015, 3, 10, 0, 0), u'account_key': u'1304', u'cancel_date': datetime.datetime(2015, 6, 17, 0, 0), u'days_to_cancel': 99}\n",
      "1101\n",
      "{u'status': u'current', u'is_udacity': True, u'is_canceled': False, u'join_date': datetime.datetime(2015, 2, 25, 0, 0), u'account_key': u'1101', u'cancel_date': None, u'days_to_cancel': None}\n",
      "\n",
      "71 students cancelled same day\n",
      "3 enrolled at least one day\n"
     ]
    }
   ],
   "source": [
    "#####################################\n",
    "#                 5                 #\n",
    "#####################################\n",
    "\n",
    "## Find the number of surprising data points (enrollments missing from\n",
    "## the engagement table) that remain, if any.\n",
    "num_unengaged_students = 0\n",
    "num_unengaged_students_enrolled_at_least_1_day = 0\n",
    "unengaged_students_enrolled_at_least_1_day = []\n",
    "for enrollment in enrollments:\n",
    "    student = enrollment['account_key']\n",
    "    if student not in engaged_students:\n",
    "        num_unengaged_students += 1\n",
    "        if enrollment['join_date'] != enrollment['cancel_date']:\n",
    "            unengaged_students_enrolled_at_least_1_day.append(enrollment) \n",
    "            num_unengaged_students_enrolled_at_least_1_day += 1\n",
    "            print student\n",
    "            print enrollment\n",
    "print\n",
    "print num_unengaged_students, \"students cancelled same day\"\n",
    "print num_unengaged_students_enrolled_at_least_1_day, \"enrolled at least one day\""
   ]
  },
  {
   "cell_type": "markdown",
   "metadata": {},
   "source": [
    "## Tracking Down the Remaining Problems"
   ]
  },
  {
   "cell_type": "code",
   "execution_count": 39,
   "metadata": {
    "collapsed": false
   },
   "outputs": [
    {
     "data": {
      "text/plain": [
       "6"
      ]
     },
     "execution_count": 39,
     "metadata": {},
     "output_type": "execute_result"
    }
   ],
   "source": [
    "# Create a set of the account keys for all Udacity test accounts\n",
    "udacity_test_accounts = set()\n",
    "for enrollment in enrollments:\n",
    "    if enrollment['is_udacity']:\n",
    "        udacity_test_accounts.add(enrollment['account_key'])\n",
    "len(udacity_test_accounts)"
   ]
  },
  {
   "cell_type": "code",
   "execution_count": 40,
   "metadata": {
    "collapsed": true
   },
   "outputs": [],
   "source": [
    "# Given some data with an account_key field, removes any records corresponding to Udacity test accounts\n",
    "def remove_udacity_accounts(data):\n",
    "    non_udacity_data = []\n",
    "    for data_point in data:\n",
    "        if data_point['account_key'] not in udacity_test_accounts:\n",
    "            non_udacity_data.append(data_point)\n",
    "    return non_udacity_data"
   ]
  },
  {
   "cell_type": "code",
   "execution_count": 41,
   "metadata": {
    "collapsed": false
   },
   "outputs": [
    {
     "name": "stdout",
     "output_type": "stream",
     "text": [
      "1622\n",
      "135656\n",
      "3634\n"
     ]
    }
   ],
   "source": [
    "# Remove Udacity test accounts from all three tables\n",
    "non_udacity_enrollments = remove_udacity_accounts(enrollments)\n",
    "non_udacity_engagement  = remove_udacity_accounts(daily_engagement)\n",
    "non_udacity_submissions = remove_udacity_accounts(project_submissions)\n",
    "\n",
    "print len(non_udacity_enrollments)\n",
    "print len(non_udacity_engagement)\n",
    "print len(non_udacity_submissions)"
   ]
  },
  {
   "cell_type": "markdown",
   "metadata": {},
   "source": [
    "## Refining the Question"
   ]
  },
  {
   "cell_type": "code",
   "execution_count": 44,
   "metadata": {
    "collapsed": false
   },
   "outputs": [
    {
     "name": "stdout",
     "output_type": "stream",
     "text": [
      "995\n"
     ]
    }
   ],
   "source": [
    "#####################################\n",
    "#                 6                 #\n",
    "#####################################\n",
    "\n",
    "## Create a dictionary named paid_students containing all students who either\n",
    "## haven't canceled yet or who remained enrolled for more than 7 days. The keys\n",
    "## should be account keys, and the values should be the date the student enrolled.\n",
    "\n",
    "paid_students = {}\n",
    "for enrollment in non_udacity_enrollments:    \n",
    "    student = enrollment['account_key']\n",
    "    if (enrollment['is_canceled'] == False) or ((enrollment['cancel_date'] - enrollment['join_date']).days > 7) : \n",
    "        date_enrolled = enrollment['join_date']\n",
    "        # if student enrolled more than once, save only the most recent enrollment date\n",
    "        if (student not in paid_students) or (date_enrolled > paid_students[student]):\n",
    "            paid_students[student] = date_enrolled\n",
    "print len(paid_students)"
   ]
  },
  {
   "cell_type": "markdown",
   "metadata": {},
   "source": [
    "## Getting Data from First Week"
   ]
  },
  {
   "cell_type": "code",
   "execution_count": 84,
   "metadata": {
    "collapsed": true
   },
   "outputs": [],
   "source": [
    "# Takes a student's join date and the date of a specific engagement record,\n",
    "# and returns True if that engagement record happened within one week\n",
    "# of the student joining.\n",
    "def within_one_week(join_date, engagement_date):\n",
    "    time_delta = engagement_date - join_date\n",
    "    return (time_delta.days < 7) and (time_delta.days >= 0)"
   ]
  },
  {
   "cell_type": "code",
   "execution_count": 85,
   "metadata": {
    "collapsed": false
   },
   "outputs": [
    {
     "name": "stdout",
     "output_type": "stream",
     "text": [
      "6919 engagements in first week\n",
      "995   paid students\n",
      "6.95376884422 ave number engagements per student, during their first week\n"
     ]
    }
   ],
   "source": [
    "#####################################\n",
    "#                 7                 #\n",
    "#####################################\n",
    "\n",
    "## Create a list of rows from the engagement table such that:\n",
    "## the student is one of the paid students you just found, and \n",
    "## the date is within one week of the student's join date.\n",
    "\n",
    "paid_engagement_in_first_week = []\n",
    "paid_students_who_engaged_in_first_week = set()\n",
    "\n",
    "for engagement in non_udacity_engagement:\n",
    "    student = engagement['account_key']\n",
    "    if student in paid_students:\n",
    "        if within_one_week(paid_students[student], engagement['utc_date']):\n",
    "            paid_engagement_in_first_week.append(engagement)\n",
    "            paid_students_who_engaged_in_first_week.add(student)\n",
    "            \n",
    "print len(paid_engagement_in_first_week), \"engagements in first week\"\n",
    "print len(paid_students_who_engaged_in_first_week),  \"  paid students\"\n",
    "print len(paid_engagement_in_first_week)*1.0 / len(paid_students_who_engaged_in_first_week)*1.0, \"ave number engagements per student, during their first week\""
   ]
  },
  {
   "cell_type": "markdown",
   "metadata": {},
   "source": [
    "## Exploring Student Engagement"
   ]
  },
  {
   "cell_type": "code",
   "execution_count": 86,
   "metadata": {
    "collapsed": true
   },
   "outputs": [],
   "source": [
    "from collections import defaultdict\n",
    "\n",
    "# Create a dictionary of engagement grouped by student.\n",
    "# The keys are account keys, and the values are lists of engagement records.\n",
    "engagement_by_account = defaultdict(list)\n",
    "for engagement_record in paid_engagement_in_first_week:\n",
    "    account_key = engagement_record['account_key']\n",
    "    engagement_by_account[account_key].append(engagement_record)"
   ]
  },
  {
   "cell_type": "code",
   "execution_count": 87,
   "metadata": {
    "collapsed": true
   },
   "outputs": [],
   "source": [
    "# Create a dictionary with the total minutes each student spent in the classroom during the first week.\n",
    "# The keys are account keys, and the values are numbers (total minutes)\n",
    "total_minutes_by_account = {}\n",
    "for account_key, engagement_for_student in engagement_by_account.items():\n",
    "    total_minutes = 0\n",
    "    for engagement_record in engagement_for_student:\n",
    "        total_minutes += engagement_record['total_minutes_visited']\n",
    "    total_minutes_by_account[account_key] = total_minutes"
   ]
  },
  {
   "cell_type": "code",
   "execution_count": 88,
   "metadata": {
    "collapsed": false
   },
   "outputs": [
    {
     "name": "stdout",
     "output_type": "stream",
     "text": [
      "Mean: 306.708326753 minutes ==  5.11180544589 hours\n",
      "Standard deviation: 412.996933409 minutes ==  6.88328222348 hours\n",
      "Minimum: 0.0 minutes ==  0.0 hours\n",
      "Maximum: 3564.7332645 minutes ==  59.412221075 hours ==  2.47550921146 days\n"
     ]
    }
   ],
   "source": [
    "import numpy as np\n",
    "\n",
    "# Summarize the data about minutes spent in the classroom\n",
    "total_minutes = total_minutes_by_account.values()\n",
    "print 'Mean:', np.mean(total_minutes), \"minutes == \", np.mean(total_minutes)/60, \"hours\"\n",
    "print 'Standard deviation:', np.std(total_minutes),  \"minutes == \", np.std(total_minutes)/60, \"hours\"\n",
    "print 'Minimum:', np.min(total_minutes),  \"minutes == \", np.min(total_minutes)/60, \"hours\"\n",
    "print 'Maximum:', np.max(total_minutes),  \"minutes == \", np.max(total_minutes)/60, \"hours == \", np.max(total_minutes)/(60*24), \"days\""
   ]
  },
  {
   "cell_type": "markdown",
   "metadata": {},
   "source": [
    "## Debugging Data Analysis Code"
   ]
  },
  {
   "cell_type": "code",
   "execution_count": 83,
   "metadata": {
    "collapsed": false
   },
   "outputs": [
    {
     "name": "stdout",
     "output_type": "stream",
     "text": [
      "10080.0\n",
      "1.04842270509 weeks\n",
      "-103 days\n",
      "engaged; 2015-01-07 00:00:00 joined: 2015-04-20 00:00:00\n",
      "{u'lessons_completed': 0, u'num_courses_visited': 1, u'total_minutes_visited': 50.9938951667, u'projects_completed': 0, 'account_key': u'108', u'utc_date': datetime.datetime(2015, 1, 7, 0, 0)}\n",
      "\n",
      "-102 days\n",
      "engaged; 2015-01-08 00:00:00 joined: 2015-04-20 00:00:00\n",
      "{u'lessons_completed': 5, u'num_courses_visited': 2, u'total_minutes_visited': 688.3034385, u'projects_completed': 0, 'account_key': u'108', u'utc_date': datetime.datetime(2015, 1, 8, 0, 0)}\n",
      "\n",
      "-101 days\n",
      "engaged; 2015-01-09 00:00:00 joined: 2015-04-20 00:00:00\n",
      "{u'lessons_completed': 1, u'num_courses_visited': 2, u'total_minutes_visited': 427.691757667, u'projects_completed': 0, 'account_key': u'108', u'utc_date': datetime.datetime(2015, 1, 9, 0, 0)}\n",
      "\n",
      "-100 days\n",
      "engaged; 2015-01-10 00:00:00 joined: 2015-04-20 00:00:00\n",
      "{u'lessons_completed': 0, u'num_courses_visited': 3, u'total_minutes_visited': 165.6270925, u'projects_completed': 0, 'account_key': u'108', u'utc_date': datetime.datetime(2015, 1, 10, 0, 0)}\n",
      "\n",
      "-99 days\n",
      "engaged; 2015-01-11 00:00:00 joined: 2015-04-20 00:00:00\n",
      "{u'lessons_completed': 0, u'num_courses_visited': 0, u'total_minutes_visited': 0.0, u'projects_completed': 0, 'account_key': u'108', u'utc_date': datetime.datetime(2015, 1, 11, 0, 0)}\n",
      "\n",
      "-98 days\n",
      "engaged; 2015-01-12 00:00:00 joined: 2015-04-20 00:00:00\n",
      "{u'lessons_completed': 0, u'num_courses_visited': 2, u'total_minutes_visited': 199.746703834, u'projects_completed': 0, 'account_key': u'108', u'utc_date': datetime.datetime(2015, 1, 12, 0, 0)}\n",
      "\n",
      "-97 days\n",
      "engaged; 2015-01-13 00:00:00 joined: 2015-04-20 00:00:00\n",
      "{u'lessons_completed': 0, u'num_courses_visited': 1, u'total_minutes_visited': 522.626804333, u'projects_completed': 0, 'account_key': u'108', u'utc_date': datetime.datetime(2015, 1, 13, 0, 0)}\n",
      "\n",
      "-96 days\n",
      "engaged; 2015-01-14 00:00:00 joined: 2015-04-20 00:00:00\n",
      "{u'lessons_completed': 0, u'num_courses_visited': 1, u'total_minutes_visited': 19.3757686667, u'projects_completed': 0, 'account_key': u'108', u'utc_date': datetime.datetime(2015, 1, 14, 0, 0)}\n",
      "\n",
      "-95 days\n",
      "engaged; 2015-01-15 00:00:00 joined: 2015-04-20 00:00:00\n",
      "{u'lessons_completed': 1, u'num_courses_visited': 1, u'total_minutes_visited': 159.846594, u'projects_completed': 0, 'account_key': u'108', u'utc_date': datetime.datetime(2015, 1, 15, 0, 0)}\n",
      "\n",
      "-94 days\n",
      "engaged; 2015-01-16 00:00:00 joined: 2015-04-20 00:00:00\n",
      "{u'lessons_completed': 0, u'num_courses_visited': 2, u'total_minutes_visited': 188.953028166, u'projects_completed': 0, 'account_key': u'108', u'utc_date': datetime.datetime(2015, 1, 16, 0, 0)}\n",
      "\n",
      "-93 days\n",
      "engaged; 2015-01-17 00:00:00 joined: 2015-04-20 00:00:00\n",
      "{u'lessons_completed': 1, u'num_courses_visited': 3, u'total_minutes_visited': 150.338208833, u'projects_completed': 0, 'account_key': u'108', u'utc_date': datetime.datetime(2015, 1, 17, 0, 0)}\n",
      "\n",
      "-92 days\n",
      "engaged; 2015-01-18 00:00:00 joined: 2015-04-20 00:00:00\n",
      "{u'lessons_completed': 0, u'num_courses_visited': 2, u'total_minutes_visited': 46.2042118333, u'projects_completed': 0, 'account_key': u'108', u'utc_date': datetime.datetime(2015, 1, 18, 0, 0)}\n",
      "\n",
      "-91 days\n",
      "engaged; 2015-01-19 00:00:00 joined: 2015-04-20 00:00:00\n",
      "{u'lessons_completed': 0, u'num_courses_visited': 0, u'total_minutes_visited': 0.0, u'projects_completed': 0, 'account_key': u'108', u'utc_date': datetime.datetime(2015, 1, 19, 0, 0)}\n",
      "\n",
      "-90 days\n",
      "engaged; 2015-01-20 00:00:00 joined: 2015-04-20 00:00:00\n",
      "{u'lessons_completed': 0, u'num_courses_visited': 0, u'total_minutes_visited': 0.0, u'projects_completed': 0, 'account_key': u'108', u'utc_date': datetime.datetime(2015, 1, 20, 0, 0)}\n",
      "\n",
      "-89 days\n",
      "engaged; 2015-01-21 00:00:00 joined: 2015-04-20 00:00:00\n",
      "{u'lessons_completed': 0, u'num_courses_visited': 0, u'total_minutes_visited': 0.0, u'projects_completed': 0, 'account_key': u'108', u'utc_date': datetime.datetime(2015, 1, 21, 0, 0)}\n",
      "\n",
      "-88 days\n",
      "engaged; 2015-01-22 00:00:00 joined: 2015-04-20 00:00:00\n",
      "{u'lessons_completed': 0, u'num_courses_visited': 2, u'total_minutes_visited': 31.7297723333, u'projects_completed': 0, 'account_key': u'108', u'utc_date': datetime.datetime(2015, 1, 22, 0, 0)}\n",
      "\n",
      "-87 days\n",
      "engaged; 2015-01-23 00:00:00 joined: 2015-04-20 00:00:00\n",
      "{u'lessons_completed': 0, u'num_courses_visited': 1, u'total_minutes_visited': 206.586538333, u'projects_completed': 0, 'account_key': u'108', u'utc_date': datetime.datetime(2015, 1, 23, 0, 0)}\n",
      "\n",
      "-86 days\n",
      "engaged; 2015-01-24 00:00:00 joined: 2015-04-20 00:00:00\n",
      "{u'lessons_completed': 0, u'num_courses_visited': 0, u'total_minutes_visited': 0.0, u'projects_completed': 0, 'account_key': u'108', u'utc_date': datetime.datetime(2015, 1, 24, 0, 0)}\n",
      "\n",
      "-85 days\n",
      "engaged; 2015-01-25 00:00:00 joined: 2015-04-20 00:00:00\n",
      "{u'lessons_completed': 0, u'num_courses_visited': 0, u'total_minutes_visited': 0.0, u'projects_completed': 0, 'account_key': u'108', u'utc_date': datetime.datetime(2015, 1, 25, 0, 0)}\n",
      "\n",
      "-84 days\n",
      "engaged; 2015-01-26 00:00:00 joined: 2015-04-20 00:00:00\n",
      "{u'lessons_completed': 0, u'num_courses_visited': 1, u'total_minutes_visited': 129.350111833, u'projects_completed': 0, 'account_key': u'108', u'utc_date': datetime.datetime(2015, 1, 26, 0, 0)}\n",
      "\n",
      "-83 days\n",
      "engaged; 2015-01-27 00:00:00 joined: 2015-04-20 00:00:00\n",
      "{u'lessons_completed': 0, u'num_courses_visited': 1, u'total_minutes_visited': 73.5691376667, u'projects_completed': 0, 'account_key': u'108', u'utc_date': datetime.datetime(2015, 1, 27, 0, 0)}\n",
      "\n",
      "-82 days\n",
      "engaged; 2015-01-28 00:00:00 joined: 2015-04-20 00:00:00\n",
      "{u'lessons_completed': 0, u'num_courses_visited': 0, u'total_minutes_visited': 0.0, u'projects_completed': 0, 'account_key': u'108', u'utc_date': datetime.datetime(2015, 1, 28, 0, 0)}\n",
      "\n",
      "-81 days\n",
      "engaged; 2015-01-29 00:00:00 joined: 2015-04-20 00:00:00\n",
      "{u'lessons_completed': 0, u'num_courses_visited': 1, u'total_minutes_visited': 271.0895865, u'projects_completed': 0, 'account_key': u'108', u'utc_date': datetime.datetime(2015, 1, 29, 0, 0)}\n",
      "\n",
      "-80 days\n",
      "engaged; 2015-01-30 00:00:00 joined: 2015-04-20 00:00:00\n",
      "{u'lessons_completed': 1, u'num_courses_visited': 1, u'total_minutes_visited': 432.252650333, u'projects_completed': 0, 'account_key': u'108', u'utc_date': datetime.datetime(2015, 1, 30, 0, 0)}\n",
      "\n",
      "-79 days\n",
      "engaged; 2015-01-31 00:00:00 joined: 2015-04-20 00:00:00\n",
      "{u'lessons_completed': 0, u'num_courses_visited': 1, u'total_minutes_visited': 196.13898, u'projects_completed': 0, 'account_key': u'108', u'utc_date': datetime.datetime(2015, 1, 31, 0, 0)}\n",
      "\n",
      "-78 days\n",
      "engaged; 2015-02-01 00:00:00 joined: 2015-04-20 00:00:00\n",
      "{u'lessons_completed': 0, u'num_courses_visited': 1, u'total_minutes_visited': 68.9915653333, u'projects_completed': 0, 'account_key': u'108', u'utc_date': datetime.datetime(2015, 2, 1, 0, 0)}\n",
      "\n",
      "-77 days\n",
      "engaged; 2015-02-02 00:00:00 joined: 2015-04-20 00:00:00\n",
      "{u'lessons_completed': 0, u'num_courses_visited': 2, u'total_minutes_visited': 86.3277713333, u'projects_completed': 0, 'account_key': u'108', u'utc_date': datetime.datetime(2015, 2, 2, 0, 0)}\n",
      "\n",
      "-76 days\n",
      "engaged; 2015-02-03 00:00:00 joined: 2015-04-20 00:00:00\n",
      "{u'lessons_completed': 0, u'num_courses_visited': 0, u'total_minutes_visited': 0.0, u'projects_completed': 0, 'account_key': u'108', u'utc_date': datetime.datetime(2015, 2, 3, 0, 0)}\n",
      "\n",
      "-75 days\n",
      "engaged; 2015-02-04 00:00:00 joined: 2015-04-20 00:00:00\n",
      "{u'lessons_completed': 0, u'num_courses_visited': 0, u'total_minutes_visited': 0.0, u'projects_completed': 0, 'account_key': u'108', u'utc_date': datetime.datetime(2015, 2, 4, 0, 0)}\n",
      "\n",
      "-74 days\n",
      "engaged; 2015-02-05 00:00:00 joined: 2015-04-20 00:00:00\n",
      "{u'lessons_completed': 0, u'num_courses_visited': 1, u'total_minutes_visited': 153.230525, u'projects_completed': 0, 'account_key': u'108', u'utc_date': datetime.datetime(2015, 2, 5, 0, 0)}\n",
      "\n",
      "-73 days\n",
      "engaged; 2015-02-06 00:00:00 joined: 2015-04-20 00:00:00\n",
      "{u'lessons_completed': 0, u'num_courses_visited': 0, u'total_minutes_visited': 0.0, u'projects_completed': 0, 'account_key': u'108', u'utc_date': datetime.datetime(2015, 2, 6, 0, 0)}\n",
      "\n",
      "-72 days\n",
      "engaged; 2015-02-07 00:00:00 joined: 2015-04-20 00:00:00\n",
      "{u'lessons_completed': 0, u'num_courses_visited': 0, u'total_minutes_visited': 0.0, u'projects_completed': 0, 'account_key': u'108', u'utc_date': datetime.datetime(2015, 2, 7, 0, 0)}\n",
      "\n",
      "-71 days\n",
      "engaged; 2015-02-08 00:00:00 joined: 2015-04-20 00:00:00\n",
      "{u'lessons_completed': 0, u'num_courses_visited': 0, u'total_minutes_visited': 0.0, u'projects_completed': 0, 'account_key': u'108', u'utc_date': datetime.datetime(2015, 2, 8, 0, 0)}\n",
      "\n",
      "-70 days\n",
      "engaged; 2015-02-09 00:00:00 joined: 2015-04-20 00:00:00\n",
      "{u'lessons_completed': 0, u'num_courses_visited': 1, u'total_minutes_visited': 16.687455, u'projects_completed': 0, 'account_key': u'108', u'utc_date': datetime.datetime(2015, 2, 9, 0, 0)}\n",
      "\n",
      "-69 days\n",
      "engaged; 2015-02-10 00:00:00 joined: 2015-04-20 00:00:00\n",
      "{u'lessons_completed': 0, u'num_courses_visited': 1, u'total_minutes_visited': 133.047518833, u'projects_completed': 0, 'account_key': u'108', u'utc_date': datetime.datetime(2015, 2, 10, 0, 0)}\n",
      "\n",
      "-68 days\n",
      "engaged; 2015-02-11 00:00:00 joined: 2015-04-20 00:00:00\n",
      "{u'lessons_completed': 0, u'num_courses_visited': 2, u'total_minutes_visited': 60.2176756667, u'projects_completed': 0, 'account_key': u'108', u'utc_date': datetime.datetime(2015, 2, 11, 0, 0)}\n",
      "\n",
      "-67 days\n",
      "engaged; 2015-02-12 00:00:00 joined: 2015-04-20 00:00:00\n",
      "{u'lessons_completed': 0, u'num_courses_visited': 3, u'total_minutes_visited': 160.438302667, u'projects_completed': 0, 'account_key': u'108', u'utc_date': datetime.datetime(2015, 2, 12, 0, 0)}\n",
      "\n",
      "-66 days\n",
      "engaged; 2015-02-13 00:00:00 joined: 2015-04-20 00:00:00\n",
      "{u'lessons_completed': 4, u'num_courses_visited': 2, u'total_minutes_visited': 506.220547, u'projects_completed': 0, 'account_key': u'108', u'utc_date': datetime.datetime(2015, 2, 13, 0, 0)}\n",
      "\n",
      "-65 days\n",
      "engaged; 2015-02-14 00:00:00 joined: 2015-04-20 00:00:00\n",
      "{u'lessons_completed': 0, u'num_courses_visited': 1, u'total_minutes_visited': 105.095858167, u'projects_completed': 0, 'account_key': u'108', u'utc_date': datetime.datetime(2015, 2, 14, 0, 0)}\n",
      "\n",
      "-64 days\n",
      "engaged; 2015-02-15 00:00:00 joined: 2015-04-20 00:00:00\n",
      "{u'lessons_completed': 0, u'num_courses_visited': 0, u'total_minutes_visited': 0.0, u'projects_completed': 0, 'account_key': u'108', u'utc_date': datetime.datetime(2015, 2, 15, 0, 0)}\n",
      "\n",
      "-63 days\n",
      "engaged; 2015-02-16 00:00:00 joined: 2015-04-20 00:00:00\n",
      "{u'lessons_completed': 0, u'num_courses_visited': 0, u'total_minutes_visited': 0.0, u'projects_completed': 0, 'account_key': u'108', u'utc_date': datetime.datetime(2015, 2, 16, 0, 0)}\n",
      "\n",
      "-62 days\n",
      "engaged; 2015-02-17 00:00:00 joined: 2015-04-20 00:00:00\n",
      "{u'lessons_completed': 0, u'num_courses_visited': 1, u'total_minutes_visited': 2.851689, u'projects_completed': 0, 'account_key': u'108', u'utc_date': datetime.datetime(2015, 2, 17, 0, 0)}\n",
      "\n",
      "-61 days\n",
      "engaged; 2015-02-18 00:00:00 joined: 2015-04-20 00:00:00\n",
      "{u'lessons_completed': 1, u'num_courses_visited': 1, u'total_minutes_visited': 10.9540768333, u'projects_completed': 0, 'account_key': u'108', u'utc_date': datetime.datetime(2015, 2, 18, 0, 0)}\n",
      "\n",
      "-60 days\n",
      "engaged; 2015-02-19 00:00:00 joined: 2015-04-20 00:00:00\n",
      "{u'lessons_completed': 3, u'num_courses_visited': 1, u'total_minutes_visited': 474.2906025, u'projects_completed': 0, 'account_key': u'108', u'utc_date': datetime.datetime(2015, 2, 19, 0, 0)}\n",
      "\n",
      "-59 days\n",
      "engaged; 2015-02-20 00:00:00 joined: 2015-04-20 00:00:00\n",
      "{u'lessons_completed': 5, u'num_courses_visited': 2, u'total_minutes_visited': 820.879483167, u'projects_completed': 0, 'account_key': u'108', u'utc_date': datetime.datetime(2015, 2, 20, 0, 0)}\n",
      "\n",
      "-58 days\n",
      "engaged; 2015-02-21 00:00:00 joined: 2015-04-20 00:00:00\n",
      "{u'lessons_completed': 2, u'num_courses_visited': 2, u'total_minutes_visited': 189.447189334, u'projects_completed': 0, 'account_key': u'108', u'utc_date': datetime.datetime(2015, 2, 21, 0, 0)}\n",
      "\n",
      "-57 days\n",
      "engaged; 2015-02-22 00:00:00 joined: 2015-04-20 00:00:00\n",
      "{u'lessons_completed': 1, u'num_courses_visited': 2, u'total_minutes_visited': 97.7356985, u'projects_completed': 0, 'account_key': u'108', u'utc_date': datetime.datetime(2015, 2, 22, 0, 0)}\n",
      "\n",
      "-56 days\n",
      "engaged; 2015-02-23 00:00:00 joined: 2015-04-20 00:00:00\n",
      "{u'lessons_completed': 0, u'num_courses_visited': 1, u'total_minutes_visited': 16.399642, u'projects_completed': 0, 'account_key': u'108', u'utc_date': datetime.datetime(2015, 2, 23, 0, 0)}\n",
      "\n",
      "-55 days\n",
      "engaged; 2015-02-24 00:00:00 joined: 2015-04-20 00:00:00\n",
      "{u'lessons_completed': 0, u'num_courses_visited': 0, u'total_minutes_visited': 0.0, u'projects_completed': 0, 'account_key': u'108', u'utc_date': datetime.datetime(2015, 2, 24, 0, 0)}\n",
      "\n",
      "-54 days\n",
      "engaged; 2015-02-25 00:00:00 joined: 2015-04-20 00:00:00\n",
      "{u'lessons_completed': 0, u'num_courses_visited': 0, u'total_minutes_visited': 0.0, u'projects_completed': 0, 'account_key': u'108', u'utc_date': datetime.datetime(2015, 2, 25, 0, 0)}\n",
      "\n",
      "-53 days\n",
      "engaged; 2015-02-26 00:00:00 joined: 2015-04-20 00:00:00\n",
      "{u'lessons_completed': 0, u'num_courses_visited': 0, u'total_minutes_visited': 0.0, u'projects_completed': 0, 'account_key': u'108', u'utc_date': datetime.datetime(2015, 2, 26, 0, 0)}\n",
      "\n",
      "-52 days\n",
      "engaged; 2015-02-27 00:00:00 joined: 2015-04-20 00:00:00\n",
      "{u'lessons_completed': 0, u'num_courses_visited': 0, u'total_minutes_visited': 0.0, u'projects_completed': 0, 'account_key': u'108', u'utc_date': datetime.datetime(2015, 2, 27, 0, 0)}\n",
      "\n",
      "-51 days\n",
      "engaged; 2015-02-28 00:00:00 joined: 2015-04-20 00:00:00\n",
      "{u'lessons_completed': 0, u'num_courses_visited': 0, u'total_minutes_visited': 0.0, u'projects_completed': 0, 'account_key': u'108', u'utc_date': datetime.datetime(2015, 2, 28, 0, 0)}\n",
      "\n",
      "-50 days\n",
      "engaged; 2015-03-01 00:00:00 joined: 2015-04-20 00:00:00\n",
      "{u'lessons_completed': 0, u'num_courses_visited': 0, u'total_minutes_visited': 0.0, u'projects_completed': 0, 'account_key': u'108', u'utc_date': datetime.datetime(2015, 3, 1, 0, 0)}\n",
      "\n",
      "-49 days\n",
      "engaged; 2015-03-02 00:00:00 joined: 2015-04-20 00:00:00\n",
      "{u'lessons_completed': 0, u'num_courses_visited': 0, u'total_minutes_visited': 0.0, u'projects_completed': 0, 'account_key': u'108', u'utc_date': datetime.datetime(2015, 3, 2, 0, 0)}\n",
      "\n",
      "-48 days\n",
      "engaged; 2015-03-03 00:00:00 joined: 2015-04-20 00:00:00\n",
      "{u'lessons_completed': 0, u'num_courses_visited': 0, u'total_minutes_visited': 0.0, u'projects_completed': 0, 'account_key': u'108', u'utc_date': datetime.datetime(2015, 3, 3, 0, 0)}\n",
      "\n",
      "-47 days\n",
      "engaged; 2015-03-04 00:00:00 joined: 2015-04-20 00:00:00\n",
      "{u'lessons_completed': 0, u'num_courses_visited': 1, u'total_minutes_visited': 2.0494365, u'projects_completed': 0, 'account_key': u'108', u'utc_date': datetime.datetime(2015, 3, 4, 0, 0)}\n",
      "\n",
      "-46 days\n",
      "engaged; 2015-03-05 00:00:00 joined: 2015-04-20 00:00:00\n",
      "{u'lessons_completed': 0, u'num_courses_visited': 0, u'total_minutes_visited': 0.0, u'projects_completed': 0, 'account_key': u'108', u'utc_date': datetime.datetime(2015, 3, 5, 0, 0)}\n",
      "\n",
      "-45 days\n",
      "engaged; 2015-03-06 00:00:00 joined: 2015-04-20 00:00:00\n",
      "{u'lessons_completed': 2, u'num_courses_visited': 2, u'total_minutes_visited': 431.799976167, u'projects_completed': 0, 'account_key': u'108', u'utc_date': datetime.datetime(2015, 3, 6, 0, 0)}\n",
      "\n",
      "-44 days\n",
      "engaged; 2015-03-07 00:00:00 joined: 2015-04-20 00:00:00\n",
      "{u'lessons_completed': 1, u'num_courses_visited': 1, u'total_minutes_visited': 119.514411833, u'projects_completed': 0, 'account_key': u'108', u'utc_date': datetime.datetime(2015, 3, 7, 0, 0)}\n",
      "\n",
      "-43 days\n",
      "engaged; 2015-03-08 00:00:00 joined: 2015-04-20 00:00:00\n",
      "{u'lessons_completed': 1, u'num_courses_visited': 1, u'total_minutes_visited': 164.2608825, u'projects_completed': 0, 'account_key': u'108', u'utc_date': datetime.datetime(2015, 3, 8, 0, 0)}\n",
      "\n",
      "-42 days\n",
      "engaged; 2015-03-09 00:00:00 joined: 2015-04-20 00:00:00\n",
      "{u'lessons_completed': 0, u'num_courses_visited': 2, u'total_minutes_visited': 179.749760666, u'projects_completed': 0, 'account_key': u'108', u'utc_date': datetime.datetime(2015, 3, 9, 0, 0)}\n",
      "\n",
      "-41 days\n",
      "engaged; 2015-03-10 00:00:00 joined: 2015-04-20 00:00:00\n",
      "{u'lessons_completed': 0, u'num_courses_visited': 0, u'total_minutes_visited': 0.0, u'projects_completed': 0, 'account_key': u'108', u'utc_date': datetime.datetime(2015, 3, 10, 0, 0)}\n",
      "\n",
      "-40 days\n",
      "engaged; 2015-03-11 00:00:00 joined: 2015-04-20 00:00:00\n",
      "{u'lessons_completed': 0, u'num_courses_visited': 0, u'total_minutes_visited': 0.0, u'projects_completed': 0, 'account_key': u'108', u'utc_date': datetime.datetime(2015, 3, 11, 0, 0)}\n",
      "\n",
      "-39 days\n",
      "engaged; 2015-03-12 00:00:00 joined: 2015-04-20 00:00:00\n",
      "{u'lessons_completed': 0, u'num_courses_visited': 1, u'total_minutes_visited': 10.787165, u'projects_completed': 0, 'account_key': u'108', u'utc_date': datetime.datetime(2015, 3, 12, 0, 0)}\n",
      "\n",
      "-38 days\n",
      "engaged; 2015-03-13 00:00:00 joined: 2015-04-20 00:00:00\n",
      "{u'lessons_completed': 0, u'num_courses_visited': 1, u'total_minutes_visited': 53.0065191667, u'projects_completed': 0, 'account_key': u'108', u'utc_date': datetime.datetime(2015, 3, 13, 0, 0)}\n",
      "\n",
      "-37 days\n",
      "engaged; 2015-03-14 00:00:00 joined: 2015-04-20 00:00:00\n",
      "{u'lessons_completed': 1, u'num_courses_visited': 1, u'total_minutes_visited': 203.048973667, u'projects_completed': 0, 'account_key': u'108', u'utc_date': datetime.datetime(2015, 3, 14, 0, 0)}\n",
      "\n",
      "-36 days\n",
      "engaged; 2015-03-15 00:00:00 joined: 2015-04-20 00:00:00\n",
      "{u'lessons_completed': 0, u'num_courses_visited': 1, u'total_minutes_visited': 51.2993831667, u'projects_completed': 0, 'account_key': u'108', u'utc_date': datetime.datetime(2015, 3, 15, 0, 0)}\n",
      "\n",
      "-35 days\n",
      "engaged; 2015-03-16 00:00:00 joined: 2015-04-20 00:00:00\n",
      "{u'lessons_completed': 0, u'num_courses_visited': 0, u'total_minutes_visited': 0.0, u'projects_completed': 0, 'account_key': u'108', u'utc_date': datetime.datetime(2015, 3, 16, 0, 0)}\n",
      "\n",
      "-34 days\n",
      "engaged; 2015-03-17 00:00:00 joined: 2015-04-20 00:00:00\n",
      "{u'lessons_completed': 0, u'num_courses_visited': 1, u'total_minutes_visited': 148.2304025, u'projects_completed': 0, 'account_key': u'108', u'utc_date': datetime.datetime(2015, 3, 17, 0, 0)}\n",
      "\n",
      "-33 days\n",
      "engaged; 2015-03-18 00:00:00 joined: 2015-04-20 00:00:00\n",
      "{u'lessons_completed': 0, u'num_courses_visited': 1, u'total_minutes_visited': 27.5826056667, u'projects_completed': 0, 'account_key': u'108', u'utc_date': datetime.datetime(2015, 3, 18, 0, 0)}\n",
      "\n",
      "-32 days\n",
      "engaged; 2015-03-19 00:00:00 joined: 2015-04-20 00:00:00\n",
      "{u'lessons_completed': 0, u'num_courses_visited': 0, u'total_minutes_visited': 0.0, u'projects_completed': 0, 'account_key': u'108', u'utc_date': datetime.datetime(2015, 3, 19, 0, 0)}\n",
      "\n",
      "-31 days\n",
      "engaged; 2015-03-20 00:00:00 joined: 2015-04-20 00:00:00\n",
      "{u'lessons_completed': 0, u'num_courses_visited': 0, u'total_minutes_visited': 0.0, u'projects_completed': 0, 'account_key': u'108', u'utc_date': datetime.datetime(2015, 3, 20, 0, 0)}\n",
      "\n",
      "-30 days\n",
      "engaged; 2015-03-21 00:00:00 joined: 2015-04-20 00:00:00\n",
      "{u'lessons_completed': 0, u'num_courses_visited': 1, u'total_minutes_visited': 14.4492643333, u'projects_completed': 0, 'account_key': u'108', u'utc_date': datetime.datetime(2015, 3, 21, 0, 0)}\n",
      "\n",
      "-29 days\n",
      "engaged; 2015-03-22 00:00:00 joined: 2015-04-20 00:00:00\n",
      "{u'lessons_completed': 1, u'num_courses_visited': 1, u'total_minutes_visited': 159.175812667, u'projects_completed': 0, 'account_key': u'108', u'utc_date': datetime.datetime(2015, 3, 22, 0, 0)}\n",
      "\n",
      "-28 days\n",
      "engaged; 2015-03-23 00:00:00 joined: 2015-04-20 00:00:00\n",
      "{u'lessons_completed': 0, u'num_courses_visited': 1, u'total_minutes_visited': 23.0641448333, u'projects_completed': 0, 'account_key': u'108', u'utc_date': datetime.datetime(2015, 3, 23, 0, 0)}\n",
      "\n",
      "-27 days\n",
      "engaged; 2015-03-24 00:00:00 joined: 2015-04-20 00:00:00\n",
      "{u'lessons_completed': 3, u'num_courses_visited': 2, u'total_minutes_visited': 327.687187333, u'projects_completed': 1, 'account_key': u'108', u'utc_date': datetime.datetime(2015, 3, 24, 0, 0)}\n",
      "\n",
      "-26 days\n",
      "engaged; 2015-03-25 00:00:00 joined: 2015-04-20 00:00:00\n",
      "{u'lessons_completed': 5, u'num_courses_visited': 1, u'total_minutes_visited': 210.324669, u'projects_completed': 0, 'account_key': u'108', u'utc_date': datetime.datetime(2015, 3, 25, 0, 0)}\n",
      "\n",
      "-25 days\n",
      "engaged; 2015-03-26 00:00:00 joined: 2015-04-20 00:00:00\n",
      "{u'lessons_completed': 0, u'num_courses_visited': 2, u'total_minutes_visited': 114.421496, u'projects_completed': 0, 'account_key': u'108', u'utc_date': datetime.datetime(2015, 3, 26, 0, 0)}\n",
      "\n",
      "-24 days\n",
      "engaged; 2015-03-27 00:00:00 joined: 2015-04-20 00:00:00\n",
      "{u'lessons_completed': 0, u'num_courses_visited': 1, u'total_minutes_visited': 85.2018686667, u'projects_completed': 0, 'account_key': u'108', u'utc_date': datetime.datetime(2015, 3, 27, 0, 0)}\n",
      "\n",
      "-23 days\n",
      "engaged; 2015-03-28 00:00:00 joined: 2015-04-20 00:00:00\n",
      "{u'lessons_completed': 0, u'num_courses_visited': 1, u'total_minutes_visited': 9.53501516667, u'projects_completed': 0, 'account_key': u'108', u'utc_date': datetime.datetime(2015, 3, 28, 0, 0)}\n",
      "\n",
      "-22 days\n",
      "engaged; 2015-03-29 00:00:00 joined: 2015-04-20 00:00:00\n",
      "{u'lessons_completed': 0, u'num_courses_visited': 0, u'total_minutes_visited': 0.0, u'projects_completed': 0, 'account_key': u'108', u'utc_date': datetime.datetime(2015, 3, 29, 0, 0)}\n",
      "\n",
      "-21 days\n",
      "engaged; 2015-03-30 00:00:00 joined: 2015-04-20 00:00:00\n",
      "{u'lessons_completed': 0, u'num_courses_visited': 0, u'total_minutes_visited': 0.0, u'projects_completed': 0, 'account_key': u'108', u'utc_date': datetime.datetime(2015, 3, 30, 0, 0)}\n",
      "\n",
      "-20 days\n",
      "engaged; 2015-03-31 00:00:00 joined: 2015-04-20 00:00:00\n",
      "{u'lessons_completed': 0, u'num_courses_visited': 0, u'total_minutes_visited': 0.0, u'projects_completed': 0, 'account_key': u'108', u'utc_date': datetime.datetime(2015, 3, 31, 0, 0)}\n",
      "\n",
      "-19 days\n",
      "engaged; 2015-04-01 00:00:00 joined: 2015-04-20 00:00:00\n",
      "{u'lessons_completed': 0, u'num_courses_visited': 3, u'total_minutes_visited': 147.569145833, u'projects_completed': 0, 'account_key': u'108', u'utc_date': datetime.datetime(2015, 4, 1, 0, 0)}\n",
      "\n",
      "-18 days\n",
      "engaged; 2015-04-02 00:00:00 joined: 2015-04-20 00:00:00\n",
      "{u'lessons_completed': 0, u'num_courses_visited': 3, u'total_minutes_visited': 77.2467501667, u'projects_completed': 0, 'account_key': u'108', u'utc_date': datetime.datetime(2015, 4, 2, 0, 0)}\n",
      "\n",
      "-17 days\n",
      "engaged; 2015-04-03 00:00:00 joined: 2015-04-20 00:00:00\n",
      "{u'lessons_completed': 0, u'num_courses_visited': 3, u'total_minutes_visited': 84.8263243333, u'projects_completed': 0, 'account_key': u'108', u'utc_date': datetime.datetime(2015, 4, 3, 0, 0)}\n",
      "\n",
      "-16 days\n",
      "engaged; 2015-04-04 00:00:00 joined: 2015-04-20 00:00:00\n",
      "{u'lessons_completed': 0, u'num_courses_visited': 0, u'total_minutes_visited': 0.0, u'projects_completed': 0, 'account_key': u'108', u'utc_date': datetime.datetime(2015, 4, 4, 0, 0)}\n",
      "\n",
      "-15 days\n",
      "engaged; 2015-04-05 00:00:00 joined: 2015-04-20 00:00:00\n",
      "{u'lessons_completed': 0, u'num_courses_visited': 0, u'total_minutes_visited': 0.0, u'projects_completed': 0, 'account_key': u'108', u'utc_date': datetime.datetime(2015, 4, 5, 0, 0)}\n",
      "\n",
      "-14 days\n",
      "engaged; 2015-04-06 00:00:00 joined: 2015-04-20 00:00:00\n",
      "{u'lessons_completed': 0, u'num_courses_visited': 2, u'total_minutes_visited': 32.9969003333, u'projects_completed': 0, 'account_key': u'108', u'utc_date': datetime.datetime(2015, 4, 6, 0, 0)}\n",
      "\n",
      "-13 days\n",
      "engaged; 2015-04-07 00:00:00 joined: 2015-04-20 00:00:00\n",
      "{u'lessons_completed': 0, u'num_courses_visited': 1, u'total_minutes_visited': 173.764699333, u'projects_completed': 0, 'account_key': u'108', u'utc_date': datetime.datetime(2015, 4, 7, 0, 0)}\n",
      "\n",
      "-12 days\n",
      "engaged; 2015-04-08 00:00:00 joined: 2015-04-20 00:00:00\n",
      "{u'lessons_completed': 0, u'num_courses_visited': 0, u'total_minutes_visited': 0.0, u'projects_completed': 0, 'account_key': u'108', u'utc_date': datetime.datetime(2015, 4, 8, 0, 0)}\n",
      "\n",
      "-11 days\n",
      "engaged; 2015-04-09 00:00:00 joined: 2015-04-20 00:00:00\n",
      "{u'lessons_completed': 0, u'num_courses_visited': 1, u'total_minutes_visited': 85.6887951667, u'projects_completed': 0, 'account_key': u'108', u'utc_date': datetime.datetime(2015, 4, 9, 0, 0)}\n",
      "\n",
      "-10 days\n",
      "engaged; 2015-04-10 00:00:00 joined: 2015-04-20 00:00:00\n",
      "{u'lessons_completed': 0, u'num_courses_visited': 2, u'total_minutes_visited': 72.4837255, u'projects_completed': 0, 'account_key': u'108', u'utc_date': datetime.datetime(2015, 4, 10, 0, 0)}\n",
      "\n",
      "-9 days\n",
      "engaged; 2015-04-11 00:00:00 joined: 2015-04-20 00:00:00\n",
      "{u'lessons_completed': 0, u'num_courses_visited': 0, u'total_minutes_visited': 0.0, u'projects_completed': 0, 'account_key': u'108', u'utc_date': datetime.datetime(2015, 4, 11, 0, 0)}\n",
      "\n",
      "-8 days\n",
      "engaged; 2015-04-12 00:00:00 joined: 2015-04-20 00:00:00\n",
      "{u'lessons_completed': 0, u'num_courses_visited': 0, u'total_minutes_visited': 0.0, u'projects_completed': 0, 'account_key': u'108', u'utc_date': datetime.datetime(2015, 4, 12, 0, 0)}\n",
      "\n",
      "-7 days\n",
      "engaged; 2015-04-13 00:00:00 joined: 2015-04-20 00:00:00\n",
      "{u'lessons_completed': 0, u'num_courses_visited': 0, u'total_minutes_visited': 0.0, u'projects_completed': 0, 'account_key': u'108', u'utc_date': datetime.datetime(2015, 4, 13, 0, 0)}\n",
      "\n",
      "-6 days\n",
      "engaged; 2015-04-14 00:00:00 joined: 2015-04-20 00:00:00\n",
      "{u'lessons_completed': 0, u'num_courses_visited': 1, u'total_minutes_visited': 36.9211676667, u'projects_completed': 0, 'account_key': u'108', u'utc_date': datetime.datetime(2015, 4, 14, 0, 0)}\n",
      "\n",
      "-5 days\n",
      "engaged; 2015-04-15 00:00:00 joined: 2015-04-20 00:00:00\n",
      "{u'lessons_completed': 1, u'num_courses_visited': 2, u'total_minutes_visited': 179.353473333, u'projects_completed': 0, 'account_key': u'108', u'utc_date': datetime.datetime(2015, 4, 15, 0, 0)}\n",
      "\n",
      "-4 days\n",
      "engaged; 2015-04-16 00:00:00 joined: 2015-04-20 00:00:00\n",
      "{u'lessons_completed': 0, u'num_courses_visited': 2, u'total_minutes_visited': 274.209734167, u'projects_completed': 0, 'account_key': u'108', u'utc_date': datetime.datetime(2015, 4, 16, 0, 0)}\n",
      "\n",
      "-3 days\n",
      "engaged; 2015-04-17 00:00:00 joined: 2015-04-20 00:00:00\n",
      "{u'lessons_completed': 0, u'num_courses_visited': 1, u'total_minutes_visited': 40.340405, u'projects_completed': 0, 'account_key': u'108', u'utc_date': datetime.datetime(2015, 4, 17, 0, 0)}\n",
      "\n",
      "-2 days\n",
      "engaged; 2015-04-18 00:00:00 joined: 2015-04-20 00:00:00\n",
      "{u'lessons_completed': 0, u'num_courses_visited': 0, u'total_minutes_visited': 0.0, u'projects_completed': 0, 'account_key': u'108', u'utc_date': datetime.datetime(2015, 4, 18, 0, 0)}\n",
      "\n",
      "-1 days\n",
      "engaged; 2015-04-19 00:00:00 joined: 2015-04-20 00:00:00\n",
      "{u'lessons_completed': 0, u'num_courses_visited': 0, u'total_minutes_visited': 0.0, u'projects_completed': 0, 'account_key': u'108', u'utc_date': datetime.datetime(2015, 4, 19, 0, 0)}\n",
      "\n",
      "0 days\n",
      "engaged; 2015-04-20 00:00:00 joined: 2015-04-20 00:00:00\n",
      "{u'lessons_completed': 0, u'num_courses_visited': 2, u'total_minutes_visited': 25.9137858334, u'projects_completed': 0, 'account_key': u'108', u'utc_date': datetime.datetime(2015, 4, 20, 0, 0)}\n",
      "\n",
      "1 days\n",
      "engaged; 2015-04-21 00:00:00 joined: 2015-04-20 00:00:00\n",
      "{u'lessons_completed': 0, u'num_courses_visited': 1, u'total_minutes_visited': 3.40682316667, u'projects_completed': 0, 'account_key': u'108', u'utc_date': datetime.datetime(2015, 4, 21, 0, 0)}\n",
      "\n",
      "2 days\n",
      "engaged; 2015-04-22 00:00:00 joined: 2015-04-20 00:00:00\n",
      "{u'lessons_completed': 0, u'num_courses_visited': 2, u'total_minutes_visited': 99.1186611667, u'projects_completed': 0, 'account_key': u'108', u'utc_date': datetime.datetime(2015, 4, 22, 0, 0)}\n",
      "\n",
      "3 days\n",
      "engaged; 2015-04-23 00:00:00 joined: 2015-04-20 00:00:00\n",
      "{u'lessons_completed': 0, u'num_courses_visited': 1, u'total_minutes_visited': 35.8316206667, u'projects_completed': 2, 'account_key': u'108', u'utc_date': datetime.datetime(2015, 4, 23, 0, 0)}\n",
      "\n",
      "4 days\n",
      "engaged; 2015-04-24 00:00:00 joined: 2015-04-20 00:00:00\n",
      "{u'lessons_completed': 0, u'num_courses_visited': 0, u'total_minutes_visited': 0.0, u'projects_completed': 0, 'account_key': u'108', u'utc_date': datetime.datetime(2015, 4, 24, 0, 0)}\n",
      "\n",
      "5 days\n",
      "engaged; 2015-04-25 00:00:00 joined: 2015-04-20 00:00:00\n",
      "{u'lessons_completed': 0, u'num_courses_visited': 0, u'total_minutes_visited': 0.0, u'projects_completed': 0, 'account_key': u'108', u'utc_date': datetime.datetime(2015, 4, 25, 0, 0)}\n",
      "\n",
      "6 days\n",
      "engaged; 2015-04-26 00:00:00 joined: 2015-04-20 00:00:00\n",
      "{u'lessons_completed': 0, u'num_courses_visited': 0, u'total_minutes_visited': 0.0, u'projects_completed': 0, 'account_key': u'108', u'utc_date': datetime.datetime(2015, 4, 26, 0, 0)}\n",
      "\n"
     ]
    }
   ],
   "source": [
    "#####################################\n",
    "#                 8                 #\n",
    "#####################################\n",
    "\n",
    "## Go through a similar process as before to see if there is a problem.\n",
    "## Locate at least one surprising piece of data, output it, and take a look at it.\n",
    "minutes_in_a_week = 7*24*60.0\n",
    "print minutes_in_a_week\n",
    "for account_key, total_minutes in total_minutes_by_account.items():\n",
    "    #print engagement_by_account[account_key][0]\n",
    "    if total_minutes > minutes_in_a_week:\n",
    "        print total_minutes/minutes_in_a_week, \"weeks\"\n",
    "        for engagement in engagement_by_account[account_key]:\n",
    "            print (engagement['utc_date'] - paid_students[account_key]).days, \"days\\n\" \\\n",
    "                   \"engaged;\", engagement['utc_date'], \"joined:\", paid_students[account_key]\n",
    "            print engagement\n",
    "            print\n"
   ]
  },
  {
   "cell_type": "code",
   "execution_count": null,
   "metadata": {
    "collapsed": true
   },
   "outputs": [],
   "source": [
    "We need to discard engagements that preceed the most recent enrollment date (if the student enrolled more than once)\n",
    "Modify \"within_one_week\" function to only include entries that have a engagement date after the join date.\n",
    "ie: greater than 0; less than 7 days."
   ]
  },
  {
   "cell_type": "markdown",
   "metadata": {},
   "source": [
    "## Lessons Completed in First Week"
   ]
  },
  {
   "cell_type": "code",
   "execution_count": null,
   "metadata": {
    "collapsed": true
   },
   "outputs": [],
   "source": [
    "#####################################\n",
    "#                 9                 #\n",
    "#####################################\n",
    "\n",
    "## Adapt the code above to find the mean, standard deviation, minimum, and maximum for\n",
    "## the number of lessons completed by each student during the first week. Try creating\n",
    "## one or more functions to re-use the code above."
   ]
  },
  {
   "cell_type": "markdown",
   "metadata": {},
   "source": [
    "## Number of Visits in First Week"
   ]
  },
  {
   "cell_type": "code",
   "execution_count": null,
   "metadata": {
    "collapsed": true
   },
   "outputs": [],
   "source": [
    "######################################\n",
    "#                 10                 #\n",
    "######################################\n",
    "\n",
    "## Find the mean, standard deviation, minimum, and maximum for the number of\n",
    "## days each student visits the classroom during the first week."
   ]
  },
  {
   "cell_type": "markdown",
   "metadata": {},
   "source": [
    "## Splitting out Passing Students"
   ]
  },
  {
   "cell_type": "code",
   "execution_count": null,
   "metadata": {
    "collapsed": true
   },
   "outputs": [],
   "source": [
    "######################################\n",
    "#                 11                 #\n",
    "######################################\n",
    "\n",
    "## Create two lists of engagement data for paid students in the first week.\n",
    "## The first list should contain data for students who eventually pass the\n",
    "## subway project, and the second list should contain data for students\n",
    "## who do not.\n",
    "\n",
    "subway_project_lesson_keys = ['746169184', '3176718735']\n",
    "\n",
    "passing_engagement =\n",
    "non_passing_engagement ="
   ]
  },
  {
   "cell_type": "markdown",
   "metadata": {},
   "source": [
    "## Comparing the Two Student Groups"
   ]
  },
  {
   "cell_type": "code",
   "execution_count": null,
   "metadata": {
    "collapsed": true
   },
   "outputs": [],
   "source": [
    "######################################\n",
    "#                 12                 #\n",
    "######################################\n",
    "\n",
    "## Compute some metrics you're interested in and see how they differ for\n",
    "## students who pass the subway project vs. students who don't. A good\n",
    "## starting point would be the metrics we looked at earlier (minutes spent\n",
    "## in the classroom, lessons completed, and days visited)."
   ]
  },
  {
   "cell_type": "markdown",
   "metadata": {},
   "source": [
    "## Making Histograms"
   ]
  },
  {
   "cell_type": "code",
   "execution_count": null,
   "metadata": {
    "collapsed": true
   },
   "outputs": [],
   "source": [
    "######################################\n",
    "#                 13                 #\n",
    "######################################\n",
    "\n",
    "## Make histograms of the three metrics we looked at earlier for both\n",
    "## students who passed the subway project and students who didn't. You\n",
    "## might also want to make histograms of any other metrics you examined."
   ]
  },
  {
   "cell_type": "markdown",
   "metadata": {},
   "source": [
    "## Improving Plots and Sharing Findings"
   ]
  },
  {
   "cell_type": "code",
   "execution_count": null,
   "metadata": {
    "collapsed": true
   },
   "outputs": [],
   "source": [
    "######################################\n",
    "#                 14                 #\n",
    "######################################\n",
    "\n",
    "## Make a more polished version of at least one of your visualizations\n",
    "## from earlier. Try importing the seaborn library to make the visualization\n",
    "## look better, adding axis labels and a title, and changing one or more\n",
    "## arguments to the hist() function."
   ]
  }
 ],
 "metadata": {
  "anaconda-cloud": {},
  "kernelspec": {
   "display_name": "Python [default]",
   "language": "python",
   "name": "python2"
  },
  "language_info": {
   "codemirror_mode": {
    "name": "ipython",
    "version": 2
   },
   "file_extension": ".py",
   "mimetype": "text/x-python",
   "name": "python",
   "nbconvert_exporter": "python",
   "pygments_lexer": "ipython2",
   "version": "2.7.12"
  }
 },
 "nbformat": 4,
 "nbformat_minor": 0
}
